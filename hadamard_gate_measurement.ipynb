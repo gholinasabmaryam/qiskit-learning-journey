{
 "cells": [
  {
   "cell_type": "markdown",
   "id": "5c70de1a",
   "metadata": {},
   "source": [
    "# **Hadamard Gate & measurement**"
   ]
  },
  {
   "cell_type": "markdown",
   "id": "22d04646",
   "metadata": {},
   "source": [
    "## Drawing & Measurment "
   ]
  },
  {
   "cell_type": "code",
   "execution_count": 15,
   "id": "4be2ed52",
   "metadata": {},
   "outputs": [
    {
     "data": {
      "image/png": "[encoded data removed]",
      "text/plain": [
       "<Figure size 454.517x284.278 with 1 Axes>"
      ]
     },
     "execution_count": 15,
     "metadata": {},
     "output_type": "execute_result"
    }
   ],
   "source": [
    "from qiskit import *\n",
    "\n",
    "qc= QuantumCircuit(2,2) #(Q,C) Q: number of qubits / C: number of classic bits\n",
    "\n",
    "qc.x(0) \n",
    "qc.y(0) \n",
    "qc.z(1)\n",
    "qc.h(1) #Hadamard gate\n",
    "#we store the qubits in classical bit so we could access each result later\n",
    "qc.measure(0,0) #the q0 be measured and stored in the 0th bit\n",
    "qc.measure(1,1) #the q1 be measured and stored in the 1st bit\n",
    "qc.draw() #drawing\n",
    "\n",
    "qc.draw('mpl') #enhancing the drawing with matplotlib"
   ]
  },
  {
   "cell_type": "markdown",
   "id": "49bfb4cb",
   "metadata": {},
   "source": [
    "## Getting the classical result"
   ]
  },
  {
   "cell_type": "code",
   "execution_count": 16,
   "id": "4d6bdb01",
   "metadata": {},
   "outputs": [
    {
     "data": {
      "text/latex": [
       "$\\displaystyle \n",
       "\\text{Statevector}= \\begin{bmatrix}\n",
       "0 \\\\\n",
       "0 \\\\\n",
       "-i \\\\\n",
       "0\n",
       "\\end{bmatrix}\n",
       "$"
      ],
      "text/plain": [
       "<IPython.core.display.Math object>"
      ]
     },
     "metadata": {},
     "output_type": "display_data"
    },
    {
     "name": "stdout",
     "output_type": "stream",
     "text": [
      "\n",
      "result vectors and probability:  {'10': 1}\n"
     ]
    }
   ],
   "source": [
    "from qiskit_aer import Aer\n",
    "from qiskit_textbook.tools import array_to_latex\n",
    "\n",
    "# we use statevector_simulator to see the wavefunction (exact quantum state) but we use AerSimulator() to simulate real measurements and results like from an actual quantum computer.\n",
    "\n",
    "#running the circuit (exact quantum states)\n",
    "backend = Aer.get_backend('statevector_simulator')\n",
    "job = backend.run(qc) #the old version: out=execure(qc,backend)\n",
    "result = job.result()\n",
    "\n",
    "#getting some features:\n",
    "\n",
    "#statevectorS\n",
    "statevector = result.get_statevector() #gives what basisvecor* amplitude are in the result / they are in this order : (00, 01, 10, 11).\n",
    "array_to_latex(statevector,pretext=\"\\\\text{Statevector}= \") #better representation than print(\"statevector: \",statevector)\n",
    "\n",
    "\n",
    "print()\n",
    "#measurement results\n",
    "counts = result.get_counts() #the result is always backward of the circuits e.g. 01 = 0 for 2nd qubit & 1 for 1st qubit\n",
    "print(\"result vectors and probability: \",counts) #e.g. result:{'01':1,0} this means the 1st qubit result is 1 and 2nd is 0 and this whole result is given by the probability of 1\n"
   ]
  },
  {
   "cell_type": "code",
   "execution_count": 17,
   "id": "22eaf371",
   "metadata": {},
   "outputs": [
    {
     "data": {
      "image/png": "[encoded data removed]",
      "text/plain": [
       "<Figure size 454.517x284.278 with 1 Axes>"
      ]
     },
     "execution_count": 17,
     "metadata": {},
     "output_type": "execute_result"
    }
   ],
   "source": [
    "from qiskit import *\n",
    "\n",
    "qc= QuantumCircuit(2,2) #(Q,C) Q: number of qubits / C: number of classic bits\n",
    "\n",
    "qc.x(0) \n",
    "qc.y(0) \n",
    "qc.z(1)\n",
    "qc.h(1) #Hadamard gate\n",
    "#we store the qubits in classical bit so we could access each result later\n",
    "qc.measure(0,0) #the q0 be measured and stored in the 0th bit\n",
    "qc.measure(1,1) #the q1 be measured and stored in the 1st bit\n",
    "qc.draw() #drawing\n",
    "\n",
    "qc.draw('mpl') #enhancing the drawing with matplotlib"
   ]
  },
  {
   "cell_type": "markdown",
   "id": "0b4589d7",
   "metadata": {},
   "source": [
    "## Simulating the result"
   ]
  },
  {
   "cell_type": "code",
   "execution_count": 18,
   "id": "18c50e0b",
   "metadata": {},
   "outputs": [
    {
     "name": "stdout",
     "output_type": "stream",
     "text": [
      "statevector:  Statevector([0.+0.j, 0.+0.j, 0.-1.j, 0.+0.j],\n",
      "            dims=(2, 2))\n",
      "\n",
      "result vectors and probability:  {'00 00': 519, '10 10': 481}\n"
     ]
    }
   ],
   "source": [
    "#running the circuit (real measurements)\n",
    "from qiskit_aer import AerSimulator\n",
    "\n",
    "simulator = AerSimulator()\n",
    "compiledcircuit =transpile(qc, simulator) \n",
    "compiledcircuit.measure_all() \n",
    "result = simulator.run(compiledcircuit , shots=1000).result() #shots is the number of times the circut should be run\n",
    "\n",
    "counts = result.get_counts()\n",
    "\n",
    "print(\"statevector: \",statevector)\n",
    "print()\n",
    "print(\"result vectors and probability: \",counts) \n",
    "\n"
   ]
  }
 ],
 "metadata": {
  "kernelspec": {
   "display_name": "Python 3",
   "language": "python",
   "name": "python3"
  },
  "language_info": {
   "codemirror_mode": {
    "name": "ipython",
    "version": 3
   },
   "file_extension": ".py",
   "mimetype": "text/x-python",
   "name": "python",
   "nbconvert_exporter": "python",
   "pygments_lexer": "ipython3",
   "version": "3.11.9"
  }
 },
 "nbformat": 4,
 "nbformat_minor": 5
}
